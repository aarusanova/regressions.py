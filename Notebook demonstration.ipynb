{
 "cells": [
  {
   "cell_type": "code",
   "execution_count": 1,
   "metadata": {
    "collapsed": false
   },
   "outputs": [],
   "source": [
    "from regressions.regressions import *\n",
    "import numpy as np"
   ]
  },
  {
   "cell_type": "markdown",
   "metadata": {},
   "source": [
    "Import a panel from csv"
   ]
  },
  {
   "cell_type": "code",
   "execution_count": 2,
   "metadata": {
    "collapsed": false
   },
   "outputs": [
    {
     "data": {
      "text/html": [
       "<div>\n",
       "<table border=\"1\" class=\"dataframe\">\n",
       "  <thead>\n",
       "    <tr style=\"text-align: right;\">\n",
       "      <th></th>\n",
       "      <th>FIRM</th>\n",
       "      <th>YEAR</th>\n",
       "      <th>I</th>\n",
       "      <th>F</th>\n",
       "      <th>C</th>\n",
       "    </tr>\n",
       "  </thead>\n",
       "  <tbody>\n",
       "    <tr>\n",
       "      <th>count</th>\n",
       "      <td>200.000000</td>\n",
       "      <td>200.000000</td>\n",
       "      <td>200.000000</td>\n",
       "      <td>200.000000</td>\n",
       "      <td>200.000000</td>\n",
       "    </tr>\n",
       "    <tr>\n",
       "      <th>mean</th>\n",
       "      <td>5.500000</td>\n",
       "      <td>1944.500000</td>\n",
       "      <td>145.958250</td>\n",
       "      <td>1081.681100</td>\n",
       "      <td>276.017150</td>\n",
       "    </tr>\n",
       "    <tr>\n",
       "      <th>std</th>\n",
       "      <td>2.879489</td>\n",
       "      <td>5.780751</td>\n",
       "      <td>216.875296</td>\n",
       "      <td>1314.469695</td>\n",
       "      <td>301.103907</td>\n",
       "    </tr>\n",
       "    <tr>\n",
       "      <th>min</th>\n",
       "      <td>1.000000</td>\n",
       "      <td>1935.000000</td>\n",
       "      <td>0.930000</td>\n",
       "      <td>58.120000</td>\n",
       "      <td>0.800000</td>\n",
       "    </tr>\n",
       "    <tr>\n",
       "      <th>25%</th>\n",
       "      <td>3.000000</td>\n",
       "      <td>1939.750000</td>\n",
       "      <td>33.557500</td>\n",
       "      <td>199.975000</td>\n",
       "      <td>79.175000</td>\n",
       "    </tr>\n",
       "    <tr>\n",
       "      <th>50%</th>\n",
       "      <td>5.500000</td>\n",
       "      <td>1944.500000</td>\n",
       "      <td>57.485000</td>\n",
       "      <td>517.950000</td>\n",
       "      <td>205.600000</td>\n",
       "    </tr>\n",
       "    <tr>\n",
       "      <th>75%</th>\n",
       "      <td>8.000000</td>\n",
       "      <td>1949.250000</td>\n",
       "      <td>138.040000</td>\n",
       "      <td>1679.850000</td>\n",
       "      <td>358.100000</td>\n",
       "    </tr>\n",
       "    <tr>\n",
       "      <th>max</th>\n",
       "      <td>10.000000</td>\n",
       "      <td>1954.000000</td>\n",
       "      <td>1486.700000</td>\n",
       "      <td>6241.700000</td>\n",
       "      <td>2226.300000</td>\n",
       "    </tr>\n",
       "  </tbody>\n",
       "</table>\n",
       "</div>"
      ],
      "text/plain": [
       "             FIRM         YEAR            I            F            C\n",
       "count  200.000000   200.000000   200.000000   200.000000   200.000000\n",
       "mean     5.500000  1944.500000   145.958250  1081.681100   276.017150\n",
       "std      2.879489     5.780751   216.875296  1314.469695   301.103907\n",
       "min      1.000000  1935.000000     0.930000    58.120000     0.800000\n",
       "25%      3.000000  1939.750000    33.557500   199.975000    79.175000\n",
       "50%      5.500000  1944.500000    57.485000   517.950000   205.600000\n",
       "75%      8.000000  1949.250000   138.040000  1679.850000   358.100000\n",
       "max     10.000000  1954.000000  1486.700000  6241.700000  2226.300000"
      ]
     },
     "execution_count": 2,
     "metadata": {},
     "output_type": "execute_result"
    }
   ],
   "source": [
    "grunfeld = RDataFrame.from_csv('regressions/Data/grunfeld.csv', i='FIRM', t='YEAR')\n",
    "grunfeld.describe()"
   ]
  },
  {
   "cell_type": "code",
   "execution_count": 8,
   "metadata": {
    "collapsed": false
   },
   "outputs": [
    {
     "name": "stdout",
     "output_type": "stream",
     "text": [
      "                            OLS Regression Results                            \n",
      "==============================================================================\n",
      "Dep. Variable:                      I   R-squared:                       0.812\n",
      "Model:                            OLS   Adj. R-squared:                  0.811\n",
      "Method:                 Least Squares   F-statistic:                     426.6\n",
      "Date:                Wed, 18 Nov 2015   Prob (F-statistic):           2.58e-72\n",
      "Time:                        17:48:59   Log-Likelihood:                -1191.8\n",
      "No. Observations:                 200   AIC:                             2390.\n",
      "Df Residuals:                     197   BIC:                             2399.\n",
      "Df Model:                           2                                         \n",
      "Covariance Type:            nonrobust                                         \n",
      "==============================================================================\n",
      "                 coef    std err          t      P>|t|      [95.0% Conf. Int.]\n",
      "------------------------------------------------------------------------------\n",
      "Intercept    -42.7144      9.512     -4.491      0.000       -61.472   -23.957\n",
      "F              0.1156      0.006     19.803      0.000         0.104     0.127\n",
      "C              0.2307      0.025      9.055      0.000         0.180     0.281\n",
      "==============================================================================\n",
      "Omnibus:                       27.240   Durbin-Watson:                   0.358\n",
      "Prob(Omnibus):                  0.000   Jarque-Bera (JB):               89.572\n",
      "Skew:                           0.469   Prob(JB):                     3.55e-20\n",
      "Kurtosis:                       6.141   Cond. No.                     2.46e+03\n",
      "==============================================================================\n",
      "\n",
      "Warnings:\n",
      "[1] Standard Errors assume that the covariance matrix of the errors is correctly specified.\n",
      "[2] The condition number is large, 2.46e+03. This might indicate that there are\n",
      "strong multicollinearity or other numerical problems.\n"
     ]
    }
   ],
   "source": [
    "r1 = grunfeld.regress('I ~ F + C')"
   ]
  },
  {
   "cell_type": "code",
   "execution_count": 10,
   "metadata": {
    "collapsed": false
   },
   "outputs": [
    {
     "name": "stdout",
     "output_type": "stream",
     "text": [
      "                            OLS Regression Results                            \n",
      "==============================================================================\n",
      "Dep. Variable:                      I   R-squared:                       0.812\n",
      "Model:                            OLS   Adj. R-squared:                  0.811\n",
      "Method:                 Least Squares   F-statistic:                     178.8\n",
      "Date:                Wed, 18 Nov 2015   Prob (F-statistic):           5.23e-45\n",
      "Time:                        17:49:05   Log-Likelihood:                -1191.8\n",
      "No. Observations:                 200   AIC:                             2390.\n",
      "Df Residuals:                     197   BIC:                             2399.\n",
      "Df Model:                           2                                         \n",
      "Covariance Type:                  HC1                                         \n",
      "==============================================================================\n",
      "                 coef    std err          z      P>|z|      [95.0% Conf. Int.]\n",
      "------------------------------------------------------------------------------\n",
      "Intercept    -42.7144     11.575     -3.690      0.000       -65.400   -20.028\n",
      "F              0.1156      0.007     16.967      0.000         0.102     0.129\n",
      "C              0.2307      0.049      4.721      0.000         0.135     0.326\n",
      "==============================================================================\n",
      "Omnibus:                       27.240   Durbin-Watson:                   0.358\n",
      "Prob(Omnibus):                  0.000   Jarque-Bera (JB):               89.572\n",
      "Skew:                           0.469   Prob(JB):                     3.55e-20\n",
      "Kurtosis:                       6.141   Cond. No.                     2.46e+03\n",
      "==============================================================================\n",
      "\n",
      "Warnings:\n",
      "[1] Standard Errors are heteroscedasticity robust (HC1)\n",
      "[2] The condition number is large, 2.46e+03. This might indicate that there are\n",
      "strong multicollinearity or other numerical problems.\n"
     ]
    }
   ],
   "source": [
    "r2 = grunfeld.regress('I ~ F + C', robust)"
   ]
  },
  {
   "cell_type": "code",
   "execution_count": 11,
   "metadata": {
    "collapsed": false
   },
   "outputs": [
    {
     "name": "stdout",
     "output_type": "stream",
     "text": [
      "                            OLS Regression Results                            \n",
      "==============================================================================\n",
      "Dep. Variable:                      I   R-squared:                       0.812\n",
      "Model:                            OLS   Adj. R-squared:                  0.811\n",
      "Method:                 Least Squares   F-statistic:                     51.59\n",
      "Date:                Wed, 18 Nov 2015   Prob (F-statistic):           1.17e-05\n",
      "Time:                        17:49:20   Log-Likelihood:                -1191.8\n",
      "No. Observations:                 200   AIC:                             2390.\n",
      "Df Residuals:                     197   BIC:                             2399.\n",
      "Df Model:                           2                                         \n",
      "Covariance Type:              cluster                                         \n",
      "==============================================================================\n",
      "                 coef    std err          z      P>|z|      [95.0% Conf. Int.]\n",
      "------------------------------------------------------------------------------\n",
      "Intercept    -42.7144     20.425     -2.091      0.037       -82.747    -2.682\n",
      "F              0.1156      0.016      7.271      0.000         0.084     0.147\n",
      "C              0.2307      0.085      2.715      0.007         0.064     0.397\n",
      "==============================================================================\n",
      "Omnibus:                       27.240   Durbin-Watson:                   0.358\n",
      "Prob(Omnibus):                  0.000   Jarque-Bera (JB):               89.572\n",
      "Skew:                           0.469   Prob(JB):                     3.55e-20\n",
      "Kurtosis:                       6.141   Cond. No.                     2.46e+03\n",
      "==============================================================================\n",
      "\n",
      "Warnings:\n",
      "[1] Standard Errors are robust tocluster correlation (cluster)\n",
      "[2] The condition number is large, 2.46e+03. This might indicate that there are\n",
      "strong multicollinearity or other numerical problems.\n"
     ]
    }
   ],
   "source": [
    "r3 = grunfeld.regress('I ~ F + C', cluster='FIRM')"
   ]
  },
  {
   "cell_type": "code",
   "execution_count": 19,
   "metadata": {
    "collapsed": false
   },
   "outputs": [
    {
     "name": "stdout",
     "output_type": "stream",
     "text": [
      "                            OLS Regression Results                            \n",
      "==============================================================================\n",
      "Dep. Variable:                      I   R-squared:                       0.767\n",
      "Model:                            OLS   Adj. R-squared:                  0.753\n",
      "Method:                 Least Squares   F-statistic:                     28.31\n",
      "Date:                Wed, 18 Nov 2015   Prob (F-statistic):           0.000131\n",
      "Time:                        17:53:48   Log-Likelihood:                -1070.8\n",
      "No. Observations:                 200   AIC:                             2148.\n",
      "Df Residuals:                     188   BIC:                             2157.\n",
      "Df Model:                           2                                         \n",
      "Covariance Type:              cluster                                         \n",
      "==============================================================================\n",
      "                 coef    std err          z      P>|z|      [95.0% Conf. Int.]\n",
      "------------------------------------------------------------------------------\n",
      "Intercept    -58.7439     27.603     -2.128      0.033      -112.845    -4.643\n",
      "F              0.1101      0.015      7.248      0.000         0.080     0.140\n",
      "C              0.3101      0.053      5.878      0.000         0.207     0.413\n",
      "==============================================================================\n",
      "Omnibus:                       29.604   Durbin-Watson:                   1.079\n",
      "Prob(Omnibus):                  0.000   Jarque-Bera (JB):              162.947\n",
      "Skew:                           0.283   Prob(JB):                     4.13e-36\n",
      "Kurtosis:                       7.386   Cond. No.                     3.91e+03\n",
      "==============================================================================\n",
      "\n",
      "Warnings:\n",
      "[1] Standard Errors are robust tocluster correlation (cluster)\n",
      "[2] The condition number is large, 3.91e+03. This might indicate that there are\n",
      "strong multicollinearity or other numerical problems.\n"
     ]
    }
   ],
   "source": [
    "r4 = grunfeld.xtreg('I ~ F + C', cluster='FIRM')"
   ]
  },
 ],
 "metadata": {
  "kernelspec": {
   "display_name": "Python 3",
   "language": "python",
   "name": "python3"
  },
  "language_info": {
   "codemirror_mode": {
    "name": "ipython",
    "version": 3
   },
   "file_extension": ".py",
   "mimetype": "text/x-python",
   "name": "python",
   "nbconvert_exporter": "python",
   "pygments_lexer": "ipython3",
   "version": "3.4.3"
  }
 },
 "nbformat": 4,
 "nbformat_minor": 0
}
