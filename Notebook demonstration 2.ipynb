{
 "cells": [
  {
   "cell_type": "code",
   "execution_count": 21,
   "metadata": {
    "collapsed": false
   },
   "outputs": [],
   "source": [
    "from PanelPy.Panel import *\n",
    "import numpy as np"
   ]
  },
  {
   "cell_type": "markdown",
   "metadata": {},
   "source": [
    "Import a panel from csv"
   ]
  },
  {
   "cell_type": "code",
   "execution_count": 25,
   "metadata": {
    "collapsed": false
   },
   "outputs": [],
   "source": [
    "pan = Panel.from_csv('Data/grunfeld.csv', 'FIRM', 'YEAR')\n",
    "pan.data.loc[:, 'logI'] = np.log(pan.data.I)"
   ]
  },
  {
   "cell_type": "code",
   "execution_count": 29,
   "metadata": {
    "collapsed": false
   },
   "outputs": [
    {
     "name": "stdout",
     "output_type": "stream",
     "text": [
      "                            OLS Regression Results                            \n",
      "==============================================================================\n",
      "Dep. Variable:                   logI   R-squared:                       0.353\n",
      "Model:                            OLS   Adj. R-squared:                  0.347\n",
      "Method:                 Least Squares   F-statistic:                     53.86\n",
      "Date:                Fri, 13 Nov 2015   Prob (F-statistic):           2.20e-19\n",
      "Time:                        00:40:10   Log-Likelihood:                -73.182\n",
      "No. Observations:                 200   AIC:                             152.4\n",
      "Df Residuals:                     197   BIC:                             162.3\n",
      "Df Model:                           2                                         \n",
      "Covariance Type:            nonrobust                                         \n",
      "==============================================================================\n",
      "                 coef    std err          t      P>|t|      [95.0% Conf. Int.]\n",
      "------------------------------------------------------------------------------\n",
      "Intercept      3.5340      0.083     42.597      0.000         3.370     3.698\n",
      "F              0.0003    7.9e-05      4.138      0.000         0.000     0.000\n",
      "C              0.0008      0.000      7.260      0.000         0.001     0.001\n",
      "==============================================================================\n",
      "Omnibus:                        0.051   Durbin-Watson:                   0.708\n",
      "Prob(Omnibus):                  0.975   Jarque-Bera (JB):                0.118\n",
      "Skew:                          -0.037   Prob(JB):                        0.943\n",
      "Kurtosis:                       2.907   Cond. No.                     3.91e+03\n",
      "==============================================================================\n",
      "\n",
      "Warnings:\n",
      "[1] Standard Errors assume that the covariance matrix of the errors is correctly specified.\n",
      "[2] The condition number is large, 3.91e+03. This might indicate that there are\n",
      "strong multicollinearity or other numerical problems.\n"
     ]
    }
   ],
   "source": [
    "fixed_effects = pan.xtreg('logI ~ F + C')\n",
    "print(fixed_effects.summary())"
   ]
  },
  {
   "cell_type": "code",
   "execution_count": null,
   "metadata": {
    "collapsed": true
   },
   "outputs": [],
   "source": []
  },
  {
   "cell_type": "code",
   "execution_count": null,
   "metadata": {
    "collapsed": true
   },
   "outputs": [],
   "source": []
  },
  {
   "cell_type": "code",
   "execution_count": null,
   "metadata": {
    "collapsed": true
   },
   "outputs": [],
   "source": []
  }
 ],
 "metadata": {
  "kernelspec": {
   "display_name": "Python 3",
   "language": "python",
   "name": "python3"
  },
  "language_info": {
   "codemirror_mode": {
    "name": "ipython",
    "version": 3
   },
   "file_extension": ".py",
   "mimetype": "text/x-python",
   "name": "python",
   "nbconvert_exporter": "python",
   "pygments_lexer": "ipython3",
   "version": "3.4.3"
  }
 },
 "nbformat": 4,
 "nbformat_minor": 0
}
